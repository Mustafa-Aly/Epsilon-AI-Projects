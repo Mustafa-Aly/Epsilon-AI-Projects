{
 "cells": [
  {
   "cell_type": "markdown",
   "metadata": {
    "id": "oHuO6uJklj2l"
   },
   "source": [
    "![1_8du96SQUQ0NlWmWvVu20Zw.png](attachment:1_8du96SQUQ0NlWmWvVu20Zw.png)"
   ]
  },
  {
   "cell_type": "markdown",
   "metadata": {
    "id": "SBAswFV9lj2p"
   },
   "source": [
    "### Description \n",
    "> #### In this game, the user gets the first chance to pick the option among Rock, paper and scissors. After that computer select from the remaining two choices(randomly), the winner is decided as per the rules.\n",
    "- Rock vs paper-> paper wins\n",
    "- Rock vs scissor-> Rock wins\n",
    "- paper vs scissor-> scissor wins."
   ]
  },
  {
   "cell_type": "code",
   "execution_count": 2,
   "metadata": {},
   "outputs": [],
   "source": [
    "import random"
   ]
  },
  {
   "cell_type": "code",
   "execution_count": 7,
   "metadata": {
    "id": "FT1MTUtklj2q"
   },
   "outputs": [
    {
     "name": "stdout",
     "output_type": "stream",
     "text": [
      "Winning Rules of the Rock paper scissor game as follows: \n",
      "Rock vs paper->paper wins \n",
      "Rock vs scissor->Rock wins \n",
      "paper vs scissor->scissor wins \n",
      "\n"
     ]
    }
   ],
   "source": [
    "# Print multiline instruction\n",
    "# performstring concatenation of string\n",
    "# print(\"Winning Rules of the Rock paper scissor game as follows: \\n\"\n",
    "                                +\"Rock vs paper->paper wins \\n\"\n",
    "                                + \"Rock vs scissor->Rock wins \\n\"\n",
    "                                +\"paper vs scissor->scissor wins \\n\")\n"
   ]
  },
  {
   "cell_type": "code",
   "execution_count": 65,
   "metadata": {
    "scrolled": true
   },
   "outputs": [
    {
     "name": "stdout",
     "output_type": "stream",
     "text": [
      "\n",
      "Winning Rules of the Rock paper scissor game as follows: \n",
      "Rock vs paper->paper wins \n",
      "Rock vs scissor->Rock wins \n",
      "paper vs scissor->scissor wins \n",
      "\n",
      "rock='1',paper='2',scissor='3'\n",
      "Enter what you want to play(rock='1',paper='2',scissor='3') 1\n",
      "\n",
      "Player1 has choose number 1 rock\n",
      "Computer has choose number 1 rock \n",
      "\n",
      "draw\n",
      "\n",
      "if you want to play again enter anyword if not enter 'n' \n",
      "anyword to play again , n to exit the program:ى\n",
      "\n",
      "Winning Rules of the Rock paper scissor game as follows: \n",
      "Rock vs paper->paper wins \n",
      "Rock vs scissor->Rock wins \n",
      "paper vs scissor->scissor wins \n",
      "\n",
      "rock='1',paper='2',scissor='3'\n",
      "Enter what you want to play(rock='1',paper='2',scissor='3') 2\n",
      "\n",
      "Player1 has choose number 2 paper\n",
      "Computer has choose number 3 scissor \n",
      "\n",
      "Computer won\n",
      "scissor beats paper\n",
      "good luck next time\n",
      "\n",
      "if you want to play again enter anyword if not enter 'n' \n",
      "anyword to play again , n to exit the program:n\n",
      "see you soon\n"
     ]
    }
   ],
   "source": [
    "#rock='1',paper='2',scissor='3'\n",
    "while True:\n",
    "    print(\"\\nWinning Rules of the Rock paper scissor game as follows: \\n\"\n",
    "                                    +\"Rock vs paper->paper wins \\n\"\n",
    "                                    + \"Rock vs scissor->Rock wins \\n\"\n",
    "                                    +\"paper vs scissor->scissor wins \\n\")\n",
    "\n",
    "    '''dict_won={key=number refer to what choice,value is list ,\n",
    "                list[0]-> what the key beat if key is 1,'rock'so the value is 3,'scissor'\n",
    "                list[1]-> what the key refer to if key is 1,rock so the value list[1] is 'rock'}'''\n",
    "\n",
    "    dict_won={1:[3,'rock'],2:[1,'paper'],3:[2,'scissor']}\n",
    "\n",
    "    print(\"rock='1',paper='2',scissor='3'\")\n",
    "\n",
    "    player1=int(input(\"Enter what you want to play(rock='1',paper='2',scissor='3') \"))\n",
    "    player2=random.choice([1,2,3])\n",
    "\n",
    "    print('\\nPlayer1 has choose number',player1,dict_won[player1][1])\n",
    "    print('Computer has choose number',player2,dict_won[player2][1],'\\n')\n",
    "\n",
    "    if player1==player2:\n",
    "        print('draw')\n",
    "\n",
    "    elif dict_won[player1][0]==player2:\n",
    "        print('Player1 won')\n",
    "        print(dict_won[player1][1],'beats',dict_won[player2][1])\n",
    "        print('yaaaaay you won, good job ')\n",
    "\n",
    "    else :\n",
    "        print('Computer won')\n",
    "        print(dict_won[player2][1],'beats',dict_won[player1][1])\n",
    "        print('good luck next time')\n",
    "    \n",
    "    \n",
    "    \n",
    "    print(\"\\nif you want to play again enter anyword if not enter 'n' \")\n",
    "    descicion=input('anyword to play again , n to exit the program:')\n",
    "    if descicion =='n':\n",
    "        print('see you soon')\n",
    "        break"
   ]
  },
  {
   "cell_type": "code",
   "execution_count": null,
   "metadata": {},
   "outputs": [],
   "source": []
  }
 ],
 "metadata": {
  "colab": {
   "provenance": []
  },
  "kernelspec": {
   "display_name": "Python 3 (ipykernel)",
   "language": "python",
   "name": "python3"
  },
  "language_info": {
   "codemirror_mode": {
    "name": "ipython",
    "version": 3
   },
   "file_extension": ".py",
   "mimetype": "text/x-python",
   "name": "python",
   "nbconvert_exporter": "python",
   "pygments_lexer": "ipython3",
   "version": "3.9.12"
  }
 },
 "nbformat": 4,
 "nbformat_minor": 1
}
