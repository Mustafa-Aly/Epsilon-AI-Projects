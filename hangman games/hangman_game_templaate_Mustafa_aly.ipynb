{
 "cells": [
  {
   "cell_type": "markdown",
   "id": "910f87f8",
   "metadata": {
    "id": "910f87f8"
   },
   "source": [
    "![image.png](attachment:image.png)"
   ]
  },
  {
   "cell_type": "markdown",
   "id": "e5faacbb",
   "metadata": {
    "id": "e5faacbb"
   },
   "source": [
    "## Description\n",
    "> ##### The Hangman program randomly selects a secret word from a list of secret words.\n",
    "> ##### The Game: Here, a random word (a fruit name) is picked up from our collection and the player gets limited chances to win the game.\n",
    "> ##### When a letter in that word is guessed correctly, that letter position in the word is made visible. In this way,all letters of the word are to be guessed before all the chances are over.\n",
    "> ##### For convenience, we have given length of word + 2 chances. For example, word to be guessed is mango, then user gets 5 + 2 = 7 chances, as mango is a five letter word."
   ]
  },
  {
   "cell_type": "code",
   "execution_count": null,
   "id": "39051de4",
   "metadata": {
    "id": "39051de4"
   },
   "outputs": [],
   "source": [
    "# Libraries we need \n",
    "import random"
   ]
  },
  {
   "cell_type": "code",
   "execution_count": null,
   "id": "828f84bb",
   "metadata": {
    "id": "828f84bb"
   },
   "outputs": [],
   "source": [
    "# Words to play on \n",
    "someWords = '''apple banana mango strawberry orange grape pineapple apricot lemon coconut watermelon cherry papaya berry peach lychee muskmelon'''"
   ]
  },
  {
   "cell_type": "code",
   "execution_count": null,
   "id": "bc613af2",
   "metadata": {
    "colab": {
     "base_uri": "https://localhost:8080/"
    },
    "executionInfo": {
     "elapsed": 19,
     "status": "ok",
     "timestamp": 1679836604274,
     "user": {
      "displayName": "Mohamed Antar",
      "userId": "15720700715477435377"
     },
     "user_tz": -120
    },
    "id": "bc613af2",
    "outputId": "c0ef1363-22c1-4755-ccf7-93a21c097ec9",
    "scrolled": true
   },
   "outputs": [],
   "source": [
    "someWords = someWords.split(' ')\n",
    "someWords"
   ]
  },
  {
   "cell_type": "code",
   "execution_count": null,
   "id": "2c1d254c",
   "metadata": {
    "colab": {
     "base_uri": "https://localhost:8080/"
    },
    "executionInfo": {
     "elapsed": 785,
     "status": "ok",
     "timestamp": 1679836637937,
     "user": {
      "displayName": "Mohamed Antar",
      "userId": "15720700715477435377"
     },
     "user_tz": -120
    },
    "id": "2c1d254c",
    "outputId": "6ac13015-170c-4de8-cefd-84538220a28e"
   },
   "outputs": [],
   "source": [
    "\n",
    "# randomly choose a secret word from our \"someWords\" LIST.\n",
    "word = random.choice(someWords)\n",
    "print(word)\n"
   ]
  },
  {
   "cell_type": "code",
   "execution_count": null,
   "id": "884f9697",
   "metadata": {
    "id": "884f9697"
   },
   "outputs": [],
   "source": [
    "\n",
    "new=''\n",
    "counter=len(word)+2\n",
    "print(f'this fruit from {len(word)} words')\n",
    "for k in range(len(word)):\n",
    "    print('_',end='')\n",
    "while True:\n",
    "    ch=input('\\nenter a char: ')\n",
    "    if ch[0] in new:\n",
    "        print('you already enter that char')\n",
    "        continue\n",
    "    else :\n",
    "        if ch[0] in word :\n",
    "            new+=ch[0]\n",
    "        \n",
    "        lis=list(new)\n",
    "        \n",
    "        for i in word:\n",
    "            if i in lis :\n",
    "                print(i,end='')\n",
    "            else :\n",
    "                print(\"_\",end='')\n",
    "\n",
    "        \n",
    "        counter-=1\n",
    "        print(f'\\n You have {counter} lives left')\n",
    "\n",
    "        if counter ==0 :\n",
    "            print('\\nYou failed')\n",
    "            print(f'The right answer is {word}')\n",
    "            break\n",
    "        new_word=set(list(word))\n",
    "        if len(new_word)==len(new):\n",
    "\n",
    "            print('\\nYou won')\n",
    "            print(f'The right answer is {word}')\n",
    "            break\n",
    "    "
   ]
  },
  {
   "cell_type": "raw",
   "id": "0de6bbab",
   "metadata": {},
   "source": []
  },
  {
   "cell_type": "code",
   "execution_count": null,
   "id": "30481226",
   "metadata": {},
   "outputs": [],
   "source": []
  },
  {
   "cell_type": "code",
   "execution_count": null,
   "id": "05f896a0",
   "metadata": {
    "id": "05f896a0"
   },
   "outputs": [],
   "source": []
  },
  {
   "cell_type": "code",
   "execution_count": null,
   "id": "673f1655",
   "metadata": {
    "id": "673f1655"
   },
   "outputs": [],
   "source": []
  },
  {
   "cell_type": "code",
   "execution_count": null,
   "id": "8570dcdd",
   "metadata": {
    "id": "8570dcdd"
   },
   "outputs": [],
   "source": []
  },
  {
   "cell_type": "code",
   "execution_count": null,
   "id": "1ade5cbf",
   "metadata": {
    "id": "1ade5cbf"
   },
   "outputs": [],
   "source": []
  }
 ],
 "metadata": {
  "colab": {
   "provenance": []
  },
  "kernelspec": {
   "display_name": "Python 3 (ipykernel)",
   "language": "python",
   "name": "python3"
  },
  "language_info": {
   "codemirror_mode": {
    "name": "ipython",
    "version": 3
   },
   "file_extension": ".py",
   "mimetype": "text/x-python",
   "name": "python",
   "nbconvert_exporter": "python",
   "pygments_lexer": "ipython3",
   "version": "3.9.12"
  }
 },
 "nbformat": 4,
 "nbformat_minor": 5
}
